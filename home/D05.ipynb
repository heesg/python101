{
 "cells": [
  {
   "cell_type": "code",
   "execution_count": 6,
   "metadata": {},
   "outputs": [
    {
     "name": "stdout",
     "output_type": "stream",
     "text": [
      "1\n",
      "2\n",
      "3\n",
      "4\n",
      "5\n"
     ]
    }
   ],
   "source": [
    "del list\n",
    "list1 = [1,2,3,4,5]\n",
    "\n",
    "for i in list1:\n",
    "    print(i)"
   ]
  },
  {
   "cell_type": "code",
   "execution_count": 10,
   "metadata": {},
   "outputs": [
    {
     "name": "stdout",
     "output_type": "stream",
     "text": [
      "0 1\n",
      "1 2\n",
      "2 3\n",
      "3 4\n",
      "4 5\n"
     ]
    }
   ],
   "source": [
    "\n",
    "for idx,val in enumerate(list1):\n",
    "    print(idx,val)"
   ]
  },
  {
   "cell_type": "code",
   "execution_count": 8,
   "metadata": {},
   "outputs": [
    {
     "name": "stdout",
     "output_type": "stream",
     "text": [
      "100\n",
      "200\n",
      "300\n"
     ]
    }
   ],
   "source": [
    "dictionary = {100:101,200:201,300:301}\n",
    "\n",
    "for i in dictionary.keys():\n",
    "    print(i)\n"
   ]
  },
  {
   "cell_type": "code",
   "execution_count": 11,
   "metadata": {},
   "outputs": [],
   "source": [
    "def my_fun(h,w):\n",
    "    area = h*w\n",
    "    per = 2*(w*b)\n",
    "    print(f\"둘레 :{per}/ 면적 : {area}\")\n",
    "\n",
    "    print(my_fun(5,6))\n",
    "\n",
    "# def my_fun2(h,w):\n",
    "#     area = h*w\n",
    "#     per = 2*(w*b)\n",
    "#     (f\"둘레 :{per}/ 면적 : {area}\")\n",
    "\n",
    "# my_fun2(5,6)\n",
    "\n",
    "# def my_fun3(h,w):\n",
    "#     area = h*w\n",
    "#     per = 2*(w*b)\n",
    "#     return(f\"둘레 :{per}/ 면적 : {area}\")\n",
    "# my_fun(5,6)"
   ]
  }
 ],
 "metadata": {
  "kernelspec": {
   "display_name": "Python 3",
   "language": "python",
   "name": "python3"
  },
  "language_info": {
   "codemirror_mode": {
    "name": "ipython",
    "version": 3
   },
   "file_extension": ".py",
   "mimetype": "text/x-python",
   "name": "python",
   "nbconvert_exporter": "python",
   "pygments_lexer": "ipython3",
   "version": "3.6.7"
  }
 },
 "nbformat": 4,
 "nbformat_minor": 2
}
