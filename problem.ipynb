{
 "cells": [
  {
   "cell_type": "markdown",
   "metadata": {},
   "source": [
    "-  두개의 정수 n,m이 주어집니다. 반복문을 사용하지 않고 가로가 n, 세로가 m인 * 로 이루어진 사각형을 출력해주세요"
   ]
  },
  {
   "cell_type": "code",
   "execution_count": 43,
   "metadata": {},
   "outputs": [
    {
     "name": "stdout",
     "output_type": "stream",
     "text": [
      "사각형 가로의 길이를 입력해주세요!5\n",
      "사각형 세로의 길이를 입력해주세요!6\n",
      "00000\n",
      "00000\n",
      "00000\n",
      "00000\n",
      "00000\n",
      "00000\n",
      "\n"
     ]
    }
   ],
   "source": [
    "n = int(input(\"사각형 가로의 길이를 입력해주세요!\"))\n",
    "m = int(input(\"사각형 세로의 길이를 입력해주세요!\"))\n",
    "\n",
    "s = (n*\"0\"+\"\\n\")\n",
    "\n",
    "print(s*m)"
   ]
  },
  {
   "cell_type": "code",
   "execution_count": null,
   "metadata": {},
   "outputs": [],
   "source": []
  },
  {
   "cell_type": "markdown",
   "metadata": {},
   "source": [
    "-다음 딕셔너리에서 평균 점수를 구하세요\n",
    "student = {'python':80, 'algorithm':78, 'django':95, 'flask':80}"
   ]
  },
  {
   "cell_type": "markdown",
   "metadata": {},
   "source": []
  },
  {
   "cell_type": "code",
   "execution_count": 58,
   "metadata": {},
   "outputs": [
    {
     "name": "stdout",
     "output_type": "stream",
     "text": [
      "83.25\n"
     ]
    }
   ],
   "source": [
    "student = {'python':80, 'algorithm':78, 'django':95, 'flask':80}\n",
    "\n",
    "# a = 0\n",
    "# for score in student.values():\n",
    "#     a = score + a\n",
    "# print(a/len(student))\n",
    "\n",
    "print(sum(student.values())/len(student))"
   ]
  },
  {
   "cell_type": "code",
   "execution_count": null,
   "metadata": {},
   "outputs": [],
   "source": []
  },
  {
   "cell_type": "code",
   "execution_count": null,
   "metadata": {},
   "outputs": [],
   "source": []
  },
  {
   "cell_type": "code",
   "execution_count": null,
   "metadata": {},
   "outputs": [],
   "source": []
  },
  {
   "cell_type": "code",
   "execution_count": null,
   "metadata": {},
   "outputs": [],
   "source": []
  },
  {
   "cell_type": "markdown",
   "metadata": {},
   "source": [
    "다음은 학생들의 혈액형(A,B,O,AB)에 대한 데이터 이다.\n",
    "for문을 활용하여 각 혈액형별 학생수를 구하세요\n",
    "blood = ['A','B','O','A','B','A','AB','AB','O','A','O','AB','O']"
   ]
  },
  {
   "cell_type": "code",
   "execution_count": 50,
   "metadata": {},
   "outputs": [
    {
     "name": "stdout",
     "output_type": "stream",
     "text": [
      "A형은4명 입니다.\n",
      "B형은 2명 입니다.\n",
      "O형은 4명 입니다.\n",
      "AB형은 3명 입니다.\n"
     ]
    }
   ],
   "source": [
    " blood = ['A','B','O','A','B','A','AB','AB','O','A','O','AB','O']\n",
    "\n",
    "# A = []\n",
    "# B = []\n",
    "# O = []\n",
    "# AB = []\n",
    "    \n",
    "\n",
    "# for i in blood:\n",
    "#     if i == \"A\":\n",
    "#         A.append(i)\n",
    "#     elif i == \"B\":\n",
    "#         B.append(i)\n",
    "#     elif i == \"O\":\n",
    "#         O.append(i)\n",
    "#     else:\n",
    "#         AB.append(i)\n",
    "\n",
    "# print (f\"A형은{A.count('A')}명 입니다.\")\n",
    "# print (f\"B형은 {B.count('B')}명 입니다.\")\n",
    "# print (f\"O형은 {O.count('O')}명 입니다.\")\n",
    "# print (f\"AB형은 {AB.count('AB')}명 입니다.\")     \n",
    "\n",
    "\n",
    "blood_dict = {}\n",
    "\n",
    "for b in blood:\n",
    "    print(b)\n",
    "    if b in biood_dict:\n",
    "    \n",
    "    else:\n",
    "        blood_dict[b]\n"
   ]
  },
  {
   "cell_type": "code",
   "execution_count": null,
   "metadata": {},
   "outputs": [],
   "source": []
  }
 ],
 "metadata": {
  "kernelspec": {
   "display_name": "Python 3",
   "language": "python",
   "name": "python3"
  },
  "language_info": {
   "codemirror_mode": {
    "name": "ipython",
    "version": 3
   },
   "file_extension": ".py",
   "mimetype": "text/x-python",
   "name": "python",
   "nbconvert_exporter": "python",
   "pygments_lexer": "ipython3",
   "version": "3.6.7"
  }
 },
 "nbformat": 4,
 "nbformat_minor": 2
}
