{
 "cells": [
  {
   "cell_type": "code",
   "execution_count": 1,
   "metadata": {},
   "outputs": [],
   "source": [
    "class Circle:\n",
    "    pi = 3.14\n",
    "    x = 0\n",
    "    y = 0\n",
    "    r = 0\n",
    "    \n",
    "    def area(self):\n",
    "        return self.pi * self.r * self.r\n",
    "    \n",
    "    def circumference(self):\n",
    "        return 2 * self.pi * self.r\n",
    "    def center(self):\n",
    "        return (self.x , self.y)\n",
    "    def move(self, x , y):\n",
    "        self.x = x\n",
    "        self.y = y"
   ]
  },
  {
   "cell_type": "code",
   "execution_count": 8,
   "metadata": {},
   "outputs": [
    {
     "name": "stdout",
     "output_type": "stream",
     "text": [
      "28.259999999999998\n",
      "18.84\n"
     ]
    }
   ],
   "source": [
    "circle = Circle()\n",
    "circle.r = 3\n",
    "circle.x, circle.y = 2,4\n",
    "print(circle.area())\n",
    "print(circle.circumference())"
   ]
  },
  {
   "cell_type": "code",
   "execution_count": 17,
   "metadata": {},
   "outputs": [
    {
     "name": "stdout",
     "output_type": "stream",
     "text": [
      "28.26\n",
      "28.259999999999998\n",
      "18.84\n",
      "18.84\n"
     ]
    }
   ],
   "source": [
    "my_o = Circle()\n",
    "# print(my_o.r)\n",
    "my_o.r = 3\n",
    "# print(my_o.r)\n",
    "my_o.move(2,4)\n",
    "# print(my_o.x)\n",
    "area = my_o.pi * my_o.r**2\n",
    "print(area)\n",
    "print(my_o.area())\n",
    "\n",
    "\n",
    "round_my_o = my_o.pi*my_o.r*2\n",
    "print(round_my_o)\n",
    "print(circle.circumference())"
   ]
  },
  {
   "cell_type": "code",
   "execution_count": 20,
   "metadata": {},
   "outputs": [
    {
     "name": "stdout",
     "output_type": "stream",
     "text": [
      "10.11111111111111\n",
      "13.11111111111111\n"
     ]
    }
   ],
   "source": [
    "circle1 = Circle()\n",
    "circle2 = Circle()\n",
    "circle1.r=3\n",
    "circle1.x , circle1.y=2,4\n",
    "circle2.x , circle2.y=5,5\n",
    "\n",
    "my_circle2r = (circle1.r**-2) + (circle2.x - circle1.x)**2 + (circle2.y -  circle1.y)**2\n",
    "print(my_circle2r)\n",
    "print(circle1.r + my_circle2r)"
   ]
  }
 ],
 "metadata": {
  "kernelspec": {
   "display_name": "Python 3",
   "language": "python",
   "name": "python3"
  },
  "language_info": {
   "codemirror_mode": {
    "name": "ipython",
    "version": 3
   },
   "file_extension": ".py",
   "mimetype": "text/x-python",
   "name": "python",
   "nbconvert_exporter": "python",
   "pygments_lexer": "ipython3",
   "version": "3.6.7"
  }
 },
 "nbformat": 4,
 "nbformat_minor": 2
}
